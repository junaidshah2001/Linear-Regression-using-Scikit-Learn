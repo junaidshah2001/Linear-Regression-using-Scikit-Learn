{
  "cells": [
    {
      "cell_type": "markdown",
      "metadata": {
        "id": "view-in-github",
        "colab_type": "text"
      },
      "source": [
        "<a href=\"https://colab.research.google.com/github/junaidshah2001/Linear-Regression-using-Scikit-Learn/blob/main/C1_W2_Lab05_Sklearn_GD_Soln.ipynb\" target=\"_parent\"><img src=\"https://colab.research.google.com/assets/colab-badge.svg\" alt=\"Open In Colab\"/></a>"
      ]
    },
    {
      "cell_type": "markdown",
      "metadata": {
        "id": "LO-rOgpT1d51"
      },
      "source": [
        "# Optional Lab: Linear Regression using Scikit-Learn"
      ],
      "id": "LO-rOgpT1d51"
    },
    {
      "cell_type": "markdown",
      "metadata": {
        "id": "FuSFC0711d57"
      },
      "source": [
        "There is an open-source, commercially usable machine learning toolkit called [scikit-learn](https://scikit-learn.org/stable/index.html). This toolkit contains implementations of many of the algorithms that you will work with in this course.\n",
        "\n"
      ],
      "id": "FuSFC0711d57"
    },
    {
      "cell_type": "markdown",
      "metadata": {
        "id": "3wQpewmj1d59"
      },
      "source": [
        "## Goals\n",
        "In this lab you will:\n",
        "- Utilize  scikit-learn to implement linear regression using Gradient Descent"
      ],
      "id": "3wQpewmj1d59"
    },
    {
      "cell_type": "markdown",
      "metadata": {
        "id": "Xdmp7aef1d5-"
      },
      "source": [
        "## Tools\n",
        "You will utilize functions from scikit-learn as well as matplotlib and NumPy."
      ],
      "id": "Xdmp7aef1d5-"
    },
    {
      "cell_type": "code",
      "execution_count": null,
      "metadata": {
        "id": "Af-2V9hs1d5_"
      },
      "outputs": [],
      "source": [
        "import numpy as np\n",
        "import matplotlib.pyplot as plt\n",
        "from sklearn.linear_model import SGDRegressor\n",
        "from sklearn.preprocessing import StandardScaler\n",
        "from lab_utils_multi import  load_house_data\n",
        "from lab_utils_common import dlc\n",
        "np.set_printoptions(precision=2)\n",
        "plt.style.use('./deeplearning.mplstyle')"
      ],
      "id": "Af-2V9hs1d5_"
    },
    {
      "cell_type": "markdown",
      "metadata": {
        "id": "GlkpHhXa1d6C"
      },
      "source": [
        "# Gradient Descent\n",
        "Scikit-learn has a gradient descent regression model [sklearn.linear_model.SGDRegressor](https://scikit-learn.org/stable/modules/generated/sklearn.linear_model.SGDRegressor.html#examples-using-sklearn-linear-model-sgdregressor).  Like your previous implementation of gradient descent, this model performs best with normalized inputs. [sklearn.preprocessing.StandardScaler](https://scikit-learn.org/stable/modules/generated/sklearn.preprocessing.StandardScaler.html#sklearn.preprocessing.StandardScaler) will perform z-score normalization as in a previous lab. Here it is referred to as 'standard score'."
      ],
      "id": "GlkpHhXa1d6C"
    },
    {
      "cell_type": "markdown",
      "metadata": {
        "id": "W2RUbvb71d6D"
      },
      "source": [
        "### Load the data set"
      ],
      "id": "W2RUbvb71d6D"
    },
    {
      "cell_type": "code",
      "execution_count": null,
      "metadata": {
        "id": "YjE2bEUe1d6D"
      },
      "outputs": [],
      "source": [
        "X_train, y_train = load_house_data()\n",
        "X_features = ['size(sqft)','bedrooms','floors','age']"
      ],
      "id": "YjE2bEUe1d6D"
    },
    {
      "cell_type": "markdown",
      "metadata": {
        "id": "LV0FPwTv1d6E"
      },
      "source": [
        "### Scale/normalize the training data"
      ],
      "id": "LV0FPwTv1d6E"
    },
    {
      "cell_type": "code",
      "execution_count": null,
      "metadata": {
        "id": "iD3pEgeN1d6F",
        "outputId": "26b3ac55-b5ac-41f7-efed-8d4ead78bf7b"
      },
      "outputs": [
        {
          "name": "stdout",
          "output_type": "stream",
          "text": [
            "Peak to Peak range by column in Raw        X:[2.41e+03 4.00e+00 1.00e+00 9.50e+01]\n",
            "Peak to Peak range by column in Normalized X:[5.85 6.14 2.06 3.69]\n"
          ]
        }
      ],
      "source": [
        "scaler = StandardScaler()\n",
        "X_norm = scaler.fit_transform(X_train)\n",
        "print(f\"Peak to Peak range by column in Raw        X:{np.ptp(X_train,axis=0)}\")\n",
        "print(f\"Peak to Peak range by column in Normalized X:{np.ptp(X_norm,axis=0)}\")"
      ],
      "id": "iD3pEgeN1d6F"
    },
    {
      "cell_type": "markdown",
      "metadata": {
        "id": "M7EMbCMq1d6J"
      },
      "source": [
        "### Create and fit the regression model"
      ],
      "id": "M7EMbCMq1d6J"
    },
    {
      "cell_type": "code",
      "execution_count": null,
      "metadata": {
        "id": "BigYvtEH1d6J",
        "outputId": "e665d728-f3b6-4d13-eb57-15bf2d25cad0"
      },
      "outputs": [
        {
          "name": "stdout",
          "output_type": "stream",
          "text": [
            "SGDRegressor(alpha=0.0001, average=False, early_stopping=False, epsilon=0.1,\n",
            "             eta0=0.01, fit_intercept=True, l1_ratio=0.15,\n",
            "             learning_rate='invscaling', loss='squared_loss', max_iter=1000,\n",
            "             n_iter_no_change=5, penalty='l2', power_t=0.25, random_state=None,\n",
            "             shuffle=True, tol=0.001, validation_fraction=0.1, verbose=0,\n",
            "             warm_start=False)\n",
            "number of iterations completed: 98, number of weight updates: 9703.0\n"
          ]
        }
      ],
      "source": [
        "sgdr = SGDRegressor(max_iter=1000)\n",
        "sgdr.fit(X_norm, y_train)\n",
        "print(sgdr)\n",
        "print(f\"number of iterations completed: {sgdr.n_iter_}, number of weight updates: {sgdr.t_}\")"
      ],
      "id": "BigYvtEH1d6J"
    },
    {
      "cell_type": "markdown",
      "metadata": {
        "id": "tVN9jkmc1d6L"
      },
      "source": [
        "### View parameters\n",
        "Note, the parameters are associated with the *normalized* input data. The fit parameters are very close to those found in the previous lab with this data."
      ],
      "id": "tVN9jkmc1d6L"
    },
    {
      "cell_type": "code",
      "execution_count": null,
      "metadata": {
        "id": "VF2s1jAH1d6L",
        "outputId": "9b73cabe-e37f-47a7-ade7-41055becad18"
      },
      "outputs": [
        {
          "name": "stdout",
          "output_type": "stream",
          "text": [
            "model parameters:                   w: [109.58 -20.86 -32.19 -38.15], b:[363.15]\n",
            "model parameters from previous lab: w: [110.56 -21.27 -32.71 -37.97], b: 363.16\n"
          ]
        }
      ],
      "source": [
        "b_norm = sgdr.intercept_\n",
        "w_norm = sgdr.coef_\n",
        "print(f\"model parameters:                   w: {w_norm}, b:{b_norm}\")\n",
        "print( \"model parameters from previous lab: w: [110.56 -21.27 -32.71 -37.97], b: 363.16\")"
      ],
      "id": "VF2s1jAH1d6L"
    },
    {
      "cell_type": "markdown",
      "metadata": {
        "id": "y24dz6Og1d6M"
      },
      "source": [
        "### Make predictions\n",
        "Predict the targets of the training data. Use both the `predict` routine and compute using $w$ and $b$."
      ],
      "id": "y24dz6Og1d6M"
    },
    {
      "cell_type": "code",
      "execution_count": null,
      "metadata": {
        "id": "AeNww00j1d6N",
        "outputId": "c8cad88f-a5fc-402f-eae3-536eb1afbcb6"
      },
      "outputs": [
        {
          "name": "stdout",
          "output_type": "stream",
          "text": [
            "prediction using np.dot() and sgdr.predict match: True\n",
            "Prediction on training set:\n",
            "[295.18 485.68 389.58 491.83]\n",
            "Target values \n",
            "[300.  509.8 394.  540. ]\n"
          ]
        }
      ],
      "source": [
        "# make a prediction using sgdr.predict()\n",
        "y_pred_sgd = sgdr.predict(X_norm)\n",
        "# make a prediction using w,b.\n",
        "y_pred = np.dot(X_norm, w_norm) + b_norm\n",
        "print(f\"prediction using np.dot() and sgdr.predict match: {(y_pred == y_pred_sgd).all()}\")\n",
        "\n",
        "print(f\"Prediction on training set:\\n{y_pred[:4]}\" )\n",
        "print(f\"Target values \\n{y_train[:4]}\")"
      ],
      "id": "AeNww00j1d6N"
    },
    {
      "cell_type": "markdown",
      "metadata": {
        "id": "1RYr_Dlv1d6O"
      },
      "source": [
        "### Plot Results\n",
        "Let's plot the predictions versus the target values."
      ],
      "id": "1RYr_Dlv1d6O"
    },
    {
      "cell_type": "code",
      "execution_count": null,
      "metadata": {
        "id": "i6FZg9yz1d6P",
        "outputId": "88d99a65-c329-4444-9ae4-22d94d7de2e4"
      },
      "outputs": [
        {
          "data": {
            "image/png": "[encoded data removed]",
            "text/plain": [
              "<Figure size 864x216 with 4 Axes>"
            ]
          },
          "metadata": {},
          "output_type": "display_data"
        }
      ],
      "source": [
        "# plot predictions and targets vs original features\n",
        "fig,ax=plt.subplots(1,4,figsize=(12,3),sharey=True)\n",
        "for i in range(len(ax)):\n",
        "    ax[i].scatter(X_train[:,i],y_train, label = 'target')\n",
        "    ax[i].set_xlabel(X_features[i])\n",
        "    ax[i].scatter(X_train[:,i],y_pred,color=dlc[\"dlorange\"], label = 'predict')\n",
        "ax[0].set_ylabel(\"Price\"); ax[0].legend();\n",
        "fig.suptitle(\"target versus prediction using z-score normalized model\")\n",
        "plt.show()"
      ],
      "id": "i6FZg9yz1d6P"
    },
    {
      "cell_type": "markdown",
      "metadata": {
        "id": "2BQzyeHx1d6Q"
      },
      "source": [
        "## Congratulations!\n",
        "In this lab you:\n",
        "- utilized an open-source machine learning toolkit, scikit-learn\n",
        "- implemented linear regression using gradient descent and feature normalization from that toolkit"
      ],
      "id": "2BQzyeHx1d6Q"
    },
    {
      "cell_type": "code",
      "execution_count": null,
      "metadata": {
        "id": "ncCl047i1d6R"
      },
      "outputs": [],
      "source": [],
      "id": "ncCl047i1d6R"
    }
  ],
  "metadata": {
    "kernelspec": {
      "display_name": "Python 3",
      "language": "python",
      "name": "python3"
    },
    "language_info": {
      "codemirror_mode": {
        "name": "ipython",
        "version": 3
      },
      "file_extension": ".py",
      "mimetype": "text/x-python",
      "name": "python",
      "nbconvert_exporter": "python",
      "pygments_lexer": "ipython3",
      "version": "3.7.6"
    },
    "colab": {
      "provenance": [],
      "include_colab_link": true
    }
  },
  "nbformat": 4,
  "nbformat_minor": 5
}